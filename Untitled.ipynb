{
 "cells": [
  {
   "cell_type": "code",
   "execution_count": 2,
   "id": "ab7a5ee5-de75-4421-b437-657a89e73917",
   "metadata": {},
   "outputs": [
    {
     "name": "stdout",
     "output_type": "stream",
     "text": [
      "Estatísticas do grafo:\n",
      "qtd_vertices: 6\n",
      "qtd_arestas: 8\n",
      "qtd_arcos: 5\n",
      "qtd_vr: 3\n",
      "qtd_er: 2\n",
      "qtd_ar: 2\n",
      "depot: 0\n",
      "capacidade: 100.0\n",
      "densidade: 0.8666666666666667\n",
      "componentes: 1\n",
      "grau_min: 3\n",
      "grau_max: 4\n",
      "caminho_medio: 5.433333333333334\n",
      "diametro: 10.0\n",
      "\n",
      "Componentes conectados: [['5', '3', '1', '4', '2', '0']]\n"
     ]
    }
   ],
   "source": [
    "from grafo import Grafo\n",
    "\n",
    "# Criação do grafo\n",
    "grafo = Grafo()\n",
    "\n",
    "# Leitura do arquivo de entrada\n",
    "grafo.ler_arquivo('exemplo.txt')\n",
    "\n",
    "# Estatísticas do grafo\n",
    "estatisticas = grafo.estatisticas()\n",
    "print(\"Estatísticas do grafo:\")\n",
    "for chave, valor in estatisticas.items():\n",
    "    print(f\"{chave}: {valor}\")\n",
    "\n",
    "# Componentes conectados\n",
    "componentes = grafo.componentes_conectados()\n",
    "print(\"\\nComponentes conectados:\", componentes)"
   ]
  },
  {
   "cell_type": "code",
   "execution_count": null,
   "id": "6b652234-b8f4-4ae6-bf65-5e11d00e8c7c",
   "metadata": {},
   "outputs": [],
   "source": []
  }
 ],
 "metadata": {
  "kernelspec": {
   "display_name": "Python 3 (ipykernel)",
   "language": "python",
   "name": "python3"
  },
  "language_info": {
   "codemirror_mode": {
    "name": "ipython",
    "version": 3
   },
   "file_extension": ".py",
   "mimetype": "text/x-python",
   "name": "python",
   "nbconvert_exporter": "python",
   "pygments_lexer": "ipython3",
   "version": "3.10.4"
  }
 },
 "nbformat": 4,
 "nbformat_minor": 5
}
